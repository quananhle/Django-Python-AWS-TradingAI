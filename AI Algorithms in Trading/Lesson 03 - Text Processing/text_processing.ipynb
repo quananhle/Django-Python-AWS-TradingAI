{
 "cells": [
  {
   "cell_type": "markdown",
   "metadata": {},
   "source": [
    "# Text Processing\n",
    "\n",
    "## Capturing Text Data\n",
    "\n",
    "### Plain Text"
   ]
  },
  {
   "cell_type": "code",
   "execution_count": 1,
   "metadata": {},
   "outputs": [
    {
     "name": "stdout",
     "output_type": "stream",
     "text": [
      "Hieroglyphic writing dates from c. 3000 BC, and is composed of hundreds of symbols. A hieroglyph can represent a word, a sound, or a silent determinative; and the same symbol can serve different purposes in different contexts. Hieroglyphs were a formal script, used on stone monuments and in tombs, that could be as detailed as individual works of art.\n",
      "\n"
     ]
    }
   ],
   "source": [
    "import os\n",
    "\n",
    "# Read in a plain text file\n",
    "with open(os.path.join(\"data\", \"hieroglyph.txt\"), \"r\") as f:\n",
    "    text = f.read()\n",
    "    print(text)"
   ]
  },
  {
   "cell_type": "markdown",
   "metadata": {},
   "source": [
    "### Tabular Data"
   ]
  },
  {
   "cell_type": "code",
   "execution_count": 2,
   "metadata": {
    "scrolled": true
   },
   "outputs": [
    {
     "data": {
      "text/html": [
       "<div>\n",
       "<style scoped>\n",
       "    .dataframe tbody tr th:only-of-type {\n",
       "        vertical-align: middle;\n",
       "    }\n",
       "\n",
       "    .dataframe tbody tr th {\n",
       "        vertical-align: top;\n",
       "    }\n",
       "\n",
       "    .dataframe thead th {\n",
       "        text-align: right;\n",
       "    }\n",
       "</style>\n",
       "<table border=\"1\" class=\"dataframe\">\n",
       "  <thead>\n",
       "    <tr style=\"text-align: right;\">\n",
       "      <th></th>\n",
       "      <th>publisher</th>\n",
       "      <th>title</th>\n",
       "    </tr>\n",
       "  </thead>\n",
       "  <tbody>\n",
       "    <tr>\n",
       "      <th>0</th>\n",
       "      <td>Livemint</td>\n",
       "      <td>fed's charles plosser sees high bar for change...</td>\n",
       "    </tr>\n",
       "    <tr>\n",
       "      <th>1</th>\n",
       "      <td>IFA Magazine</td>\n",
       "      <td>us open: stocks fall after fed official hints ...</td>\n",
       "    </tr>\n",
       "    <tr>\n",
       "      <th>2</th>\n",
       "      <td>IFA Magazine</td>\n",
       "      <td>fed risks falling 'behind the curve', charles ...</td>\n",
       "    </tr>\n",
       "    <tr>\n",
       "      <th>3</th>\n",
       "      <td>Moneynews</td>\n",
       "      <td>fed's plosser: nasty weather has curbed job gr...</td>\n",
       "    </tr>\n",
       "    <tr>\n",
       "      <th>4</th>\n",
       "      <td>NASDAQ</td>\n",
       "      <td>plosser: fed may have to accelerate tapering pace</td>\n",
       "    </tr>\n",
       "  </tbody>\n",
       "</table>\n",
       "</div>"
      ],
      "text/plain": [
       "      publisher                                              title\n",
       "0      Livemint  fed's charles plosser sees high bar for change...\n",
       "1  IFA Magazine  us open: stocks fall after fed official hints ...\n",
       "2  IFA Magazine  fed risks falling 'behind the curve', charles ...\n",
       "3     Moneynews  fed's plosser: nasty weather has curbed job gr...\n",
       "4        NASDAQ  plosser: fed may have to accelerate tapering pace"
      ]
     },
     "execution_count": 2,
     "metadata": {},
     "output_type": "execute_result"
    }
   ],
   "source": [
    "import pandas as pd\n",
    "\n",
    "# Extract text column from a dataframe\n",
    "df = pd.read_csv(os.path.join(\"data\", \"news.csv\"))\n",
    "df.head()[['publisher', 'title']]\n",
    "\n",
    "# Convert text column to lowercase\n",
    "df['title'] = df['title'].str.lower()\n",
    "df.head()[['publisher', 'title']]"
   ]
  },
  {
   "cell_type": "markdown",
   "metadata": {},
   "source": [
    "### Online Resource"
   ]
  },
  {
   "cell_type": "code",
   "execution_count": 3,
   "metadata": {
    "scrolled": true
   },
   "outputs": [
    {
     "name": "stdout",
     "output_type": "stream",
     "text": [
      "{\n",
      "    \"success\": {\n",
      "        \"total\": 1\n",
      "    },\n",
      "    \"contents\": {\n",
      "        \"quotes\": [\n",
      "            {\n",
      "                \"quote\": \"I am an optimist. It does not seem too much use being anything else....\",\n",
      "                \"length\": \"71\",\n",
      "                \"author\": \"Winston Churchill\",\n",
      "                \"tags\": [\n",
      "                    \"inspire\",\n",
      "                    \"optimist\"\n",
      "                ],\n",
      "                \"category\": \"inspire\",\n",
      "                \"language\": \"en\",\n",
      "                \"date\": \"2020-05-26\",\n",
      "                \"permalink\": \"https://theysaidso.com/quote/winston-churchill-i-am-an-optimist-it-does-not-seem-too-much-use-being-anything\",\n",
      "                \"id\": \"qZVdr86UNmmnFYxCtww0vAeF\",\n",
      "                \"background\": \"https://theysaidso.com/img/qod/qod-inspire.jpg\",\n",
      "                \"title\": \"Inspiring Quote of the day\"\n",
      "            }\n",
      "        ]\n",
      "    },\n",
      "    \"baseurl\": \"https://theysaidso.com\",\n",
      "    \"copyright\": {\n",
      "        \"year\": 2022,\n",
      "        \"url\": \"https://theysaidso.com\"\n",
      "    }\n",
      "}\n",
      "I am an optimist. It does not seem too much use being anything else.... \n",
      "-- Winston Churchill\n"
     ]
    }
   ],
   "source": [
    "import requests\n",
    "import json\n",
    "\n",
    "# Fetch data from a REST API\n",
    "r = requests.get(\n",
    "    \"https://quotes.rest/qod.json\")\n",
    "res = r.json()\n",
    "print(json.dumps(res, indent=4))\n",
    "\n",
    "# Extract relevant object and field\n",
    "q = res[\"contents\"][\"quotes\"][0]\n",
    "print(q[\"quote\"], \"\\n--\", q[\"author\"])"
   ]
  },
  {
   "cell_type": "markdown",
   "metadata": {},
   "source": [
    "## Cleaning"
   ]
  },
  {
   "cell_type": "code",
   "execution_count": 4,
   "metadata": {
    "scrolled": true
   },
   "outputs": [
    {
     "name": "stdout",
     "output_type": "stream",
     "text": [
      "<html lang=\"en\" op=\"news\"><head><meta name=\"referrer\" content=\"origin\"><meta name=\"viewport\" content=\"width=device-width, initial-scale=1.0\"><link rel=\"stylesheet\" type=\"text/css\" href=\"news.css?5lxYZBQpuMNDRx1FzEN8\">\n",
      "        <link rel=\"shortcut icon\" href=\"favicon.ico\">\n",
      "          <link rel=\"alternate\" type=\"application/rss+xml\" title=\"RSS\" href=\"rss\">\n",
      "        <title>Hacker News</title></head><body><center><table id=\"hnmain\" border=\"0\" cellpadding=\"0\" cellspacing=\"0\" width=\"85%\" bgcolor=\"#f6f6ef\">\n",
      "        <tr><td bgcolor=\"#ff6600\"><table border=\"0\" cellpadding=\"0\" cellspacing=\"0\" width=\"100%\" style=\"padding:2px\"><tr><td style=\"width:18px;padding-right:4px\"><a href=\"https://news.ycombinator.com\"><img src=\"y18.gif\" width=\"18\" height=\"18\" style=\"border:1px white solid;\"></a></td>\n",
      "                  <td style=\"line-height:12pt; height:10px;\"><span class=\"pagetop\"><b class=\"hnname\"><a href=\"news\">Hacker News</a></b>\n",
      "              <a href=\"newest\">new</a> | <a href=\"front\">past</a> | <a href=\"newcomments\">comments</a> | <a href=\"ask\">ask</a> | <a href=\"show\">show</a> | <a href=\"jobs\">jobs</a> | <a href=\"submit\">submit</a>            </span></td><td style=\"text-align:right;padding-right:4px;\"><span class=\"pagetop\">\n",
      "                              <a href=\"login?goto=news\">login</a>\n",
      "                          </span></td>\n",
      "              </tr></table></td></tr>\n",
      "<tr id=\"pagespace\" title=\"\" style=\"height:10px\"></tr><tr><td><table border=\"0\" cellpadding=\"0\" cellspacing=\"0\" class=\"itemlist\">\n",
      "              <tr class='athing' id='23303037'>\n",
      "      <td align=\"right\" valign=\"top\" class=\"title\"><span class=\"rank\">1.</span></td>      <td valign=\"top\" class=\"votelinks\"><center><a id='up_23303037' href='vote?id=23303037&amp;how=up&amp;goto=news'><div class='votearrow' title='upvote'></div></a></center></td><td class=\"title\"><a href=\"item?id=23303037\" class=\"storylink\">Tell HN: Triplebyte reverses, emails apology</a></td></tr><tr><td colspan=\"2\"></td><td class=\"subtext\">\n",
      "        <span class=\"score\" id=\"score_23303037\">744 points</span> by <a href=\"user?id=trianx\" class=\"hnuser\">trianx</a> <span class=\"age\"><a href=\"item?id=23303037\">8 hours ago</a></span> <span id=\"unv_23303037\"></span> | <a href=\"hide?id=23303037&amp;goto=news\">hide</a> | <a href=\"item?id=23303037\">494&nbsp;comments</a>              </td></tr>\n",
      "      <tr class=\"spacer\" style=\"height:5px\"></tr>\n",
      "                <tr class='athing' id='23304788'>\n",
      "      <td align=\"right\" valign=\"top\" class=\"title\"><span class=\"rank\">2.</span></td>      <td valign=\"top\" class=\"votelinks\"><center><a id='up_23304788' href='vote?id=23304788&amp;how=up&amp;goto=news'><div class='votearrow' title='upvote'></div></a></center></td><td class=\"title\"><a href=\"https://www.thedrive.com/news/33645/the-incredible-story-of-the-us-armys-earth-shaking-off-road-land-trains\" class=\"storylink\">The US Army's earth-shaking, off-road land trains</a><span class=\"sitebit comhead\"> (<a href=\"from?site=thedrive.com\"><span class=\"sitestr\">thedrive.com</span></a>)</span></td></tr><tr><td colspan=\"2\"></td><td class=\"subtext\">\n",
      "        <span class=\"score\" id=\"score_23304788\">198 points</span> by <a href=\"user?id=tomohawk\" class=\"hnuser\">tomohawk</a> <span class=\"age\"><a href=\"item?id=23304788\">4 hours ago</a></span> <span id=\"unv_23304788\"></span> | <a href=\"hide?id=23304788&amp;goto=news\">hide</a> | <a href=\"item?id=23304788\">43&nbsp;comments</a>              </td></tr>\n",
      "      <tr class=\"spacer\" style=\"height:5px\"></tr>\n",
      "                <tr class='athing' id='23305196'>\n",
      "      <td align=\"right\" valign=\"top\" class=\"title\"><span class=\"rank\">3.</span></td>      <td valign=\"top\" class=\"votelinks\"><center><a id='up_23305196' href='vote?id=23305196&amp;how=up&amp;goto=news'><div class='votearrow' title='upvote'></div></a></center></td><td class=\"title\"><a href=\"https://starthouse.xyz?ref=hn\" class=\"storylink\">I've collected over 600 pitch decks</a><span class=\"sitebit comhead\"> (<a href=\"from?site=starthouse.xyz\"><span class=\"sitestr\">starthouse.xyz</span></a>)</span></td></tr><tr><td colspan=\"2\"></td><td class=\"subtext\">\n",
      "        <span class=\"score\" id=\"score_23305196\">119 points</span> by <a href=\"user?id=drew_m\" class=\"hnuser\">drew_m</a> <span class=\"age\"><a href=\"item?id=23305196\">4 hours ago</a></span> <span id=\"unv_23305196\"></span> | <a href=\"hide?id=23305196&amp;goto=news\">hide</a> | <a href=\"item?id=23305196\">38&nbsp;comments</a>              </td></tr>\n",
      "      <tr class=\"spacer\" style=\"height:5px\"></tr>\n",
      "                <tr class='athing' id='23304614'>\n",
      "      <td align=\"right\" valign=\"top\" class=\"title\"><span class=\"rank\">4.</span></td>      <td valign=\"top\" class=\"votelinks\"><center><a id='up_23304614' href='vote?id=23304614&amp;how=up&amp;goto=news'><div class='votearrow' title='upvote'></div></a></center></td><td class=\"title\"><a href=\"https://tinyprojects.dev/posts/i_bought_netflix_dot_soy\" class=\"storylink\">I bought netflix.soy</a><span class=\"sitebit comhead\"> (<a href=\"from?site=tinyprojects.dev\"><span class=\"sitestr\">tinyprojects.dev</span></a>)</span></td></tr><tr><td colspan=\"2\"></td><td class=\"subtext\">\n",
      "        <span class=\"score\" id=\"score_23304614\">228 points</span> by <a href=\"user?id=stokesyio\" class=\"hnuser\">stokesyio</a> <span class=\"age\"><a href=\"item?id=23304614\">5 hours ago</a></span> <span id=\"unv_23304614\"></span> | <a href=\"hide?id=23304614&amp;goto=news\">hide</a> | <a href=\"item?id=23304614\">151&nbsp;comments</a>              </td></tr>\n",
      "      <tr class=\"spacer\" style=\"height:5px\"></tr>\n",
      "                <tr class='athing' id='23304081'>\n",
      "      <td align=\"right\" valign=\"top\" class=\"title\"><span class=\"rank\">5.</span></td>      <td valign=\"top\" class=\"votelinks\"><center><a id='up_23304081' href='vote?id=23304081&amp;how=up&amp;goto=news'><div class='votearrow' title='upvote'></div></a></center></td><td class=\"title\"><a href=\"https://www.type-driven.org.uk/edwinb/why-is-idris-2-so-much-faster-than-idris-1.html\" class=\"storylink\">Why is Idris 2 so much faster than Idris 1?</a><span class=\"sitebit comhead\"> (<a href=\"from?site=type-driven.org.uk\"><span class=\"sitestr\">type-driven.org.uk</span></a>)</span></td></tr><tr><td colspan=\"2\"></td><td class=\"subtext\">\n",
      "        <span class=\"score\" id=\"score_23304081\">188 points</span> by <a href=\"user?id=culturedsystems\" class=\"hnuser\">culturedsystems</a> <span class=\"age\"><a href=\"item?id=23304081\">6 hours ago</a></span> <span id=\"unv_23304081\"></span> | <a href=\"hide?id=23304081&amp;goto=news\">hide</a> | <a href=\"item?id=23304081\">38&nbsp;comments</a>              </td></tr>\n",
      "      <tr class=\"spacer\" style=\"height:5px\"></tr>\n",
      "                <tr class='athing' id='23301402'>\n",
      "      <td align=\"right\" valign=\"top\" class=\"title\"><span class=\"rank\">6.</span></td>      <td valign=\"top\" class=\"votelinks\"><center><a id='up_23301402' href='vote?id=23301402&amp;how=up&amp;goto=news'><div class='votearrow' title='upvote'></div></a></center></td><td class=\"title\"><a href=\"https://en.wikipedia.org/wiki/Two_capacitor_paradox\" class=\"storylink\">Two capacitor paradox</a><span class=\"sitebit comhead\"> (<a href=\"from?site=wikipedia.org\"><span class=\"sitestr\">wikipedia.org</span></a>)</span></td></tr><tr><td colspan=\"2\"></td><td class=\"subtext\">\n",
      "        <span class=\"score\" id=\"score_23301402\">376 points</span> by <a href=\"user?id=rathel\" class=\"hnuser\">rathel</a> <span class=\"age\"><a href=\"item?id=23301402\">11 hours ago</a></span> <span id=\"unv_23301402\"></span> | <a href=\"hide?id=23301402&amp;goto=news\">hide</a> | <a href=\"item?id=23301402\">153&nbsp;comments</a>              </td></tr>\n",
      "      <tr class=\"spacer\" style=\"height:5px\"></tr>\n",
      "                <tr class='athing' id='23306382'>\n",
      "      <td align=\"right\" valign=\"top\" class=\"title\"><span class=\"rank\">7.</span></td>      <td valign=\"top\" class=\"votelinks\"><center><a id='up_23306382' href='vote?id=23306382&amp;how=up&amp;goto=news'><div class='votearrow' title='upvote'></div></a></center></td><td class=\"title\"><a href=\"http://lea.verou.me/2020/05/todays-javascript-from-an-outsiders-perspective/\" class=\"storylink\">Today’s JavaScript, from an Outsider’s Perspective</a><span class=\"sitebit comhead\"> (<a href=\"from?site=verou.me\"><span class=\"sitestr\">verou.me</span></a>)</span></td></tr><tr><td colspan=\"2\"></td><td class=\"subtext\">\n",
      "        <span class=\"score\" id=\"score_23306382\">17 points</span> by <a href=\"user?id=llacb47\" class=\"hnuser\">llacb47</a> <span class=\"age\"><a href=\"item?id=23306382\">55 minutes ago</a></span> <span id=\"unv_23306382\"></span> | <a href=\"hide?id=23306382&amp;goto=news\">hide</a> | <a href=\"item?id=23306382\">11&nbsp;comments</a>              </td></tr>\n",
      "      <tr class=\"spacer\" style=\"height:5px\"></tr>\n",
      "                <tr class='athing' id='23306104'>\n",
      "      <td align=\"right\" valign=\"top\" class=\"title\"><span class=\"rank\">8.</span></td>      <td valign=\"top\" class=\"votelinks\"><center><a id='up_23306104' href='vote?id=23306104&amp;how=up&amp;goto=news'><div class='votearrow' title='upvote'></div></a></center></td><td class=\"title\"><a href=\"https://tanay.substack.com/p/lies-damned-lies-and-stock-based\" class=\"storylink\">Lies, Damned Lies, and Stock-Based Compensation</a><span class=\"sitebit comhead\"> (<a href=\"from?site=tanay.substack.com\"><span class=\"sitestr\">tanay.substack.com</span></a>)</span></td></tr><tr><td colspan=\"2\"></td><td class=\"subtext\">\n",
      "        <span class=\"score\" id=\"score_23306104\">58 points</span> by <a href=\"user?id=pvsukale3\" class=\"hnuser\">pvsukale3</a> <span class=\"age\"><a href=\"item?id=23306104\">1 hour ago</a></span> <span id=\"unv_23306104\"></span> | <a href=\"hide?id=23306104&amp;goto=news\">hide</a> | <a href=\"item?id=23306104\">6&nbsp;comments</a>              </td></tr>\n",
      "      <tr class=\"spacer\" style=\"height:5px\"></tr>\n",
      "                <tr class='athing' id='23302549'>\n",
      "      <td align=\"right\" valign=\"top\" class=\"title\"><span class=\"rank\">9.</span></td>      <td valign=\"top\" class=\"votelinks\"><center><a id='up_23302549' href='vote?id=23302549&amp;how=up&amp;goto=news'><div class='votearrow' title='upvote'></div></a></center></td><td class=\"title\"><a href=\"https://github.com/adelsz/pgtyped\" class=\"storylink\">Show HN: PgTyped – Typesafe SQL in TypeScript and Postgres</a><span class=\"sitebit comhead\"> (<a href=\"from?site=github.com\"><span class=\"sitestr\">github.com</span></a>)</span></td></tr><tr><td colspan=\"2\"></td><td class=\"subtext\">\n",
      "        <span class=\"score\" id=\"score_23302549\">206 points</span> by <a href=\"user?id=alde\" class=\"hnuser\">alde</a> <span class=\"age\"><a href=\"item?id=23302549\">9 hours ago</a></span> <span id=\"unv_23302549\"></span> | <a href=\"hide?id=23302549&amp;goto=news\">hide</a> | <a href=\"item?id=23302549\">67&nbsp;comments</a>              </td></tr>\n",
      "      <tr class=\"spacer\" style=\"height:5px\"></tr>\n",
      "                <tr class='athing' id='23304194'>\n",
      "      <td align=\"right\" valign=\"top\" class=\"title\"><span class=\"rank\">10.</span></td>      <td valign=\"top\" class=\"votelinks\"><center><a id='up_23304194' href='vote?id=23304194&amp;how=up&amp;goto=news'><div class='votearrow' title='upvote'></div></a></center></td><td class=\"title\"><a href=\"https://blog.project-insanity.org/2020/05/25/hardware-fix-for-dell-ac-power-adapter-could-not-be-determined/\" class=\"storylink\">Hardware fix for Dell “AC power adapter could not be determined”</a><span class=\"sitebit comhead\"> (<a href=\"from?site=project-insanity.org\"><span class=\"sitestr\">project-insanity.org</span></a>)</span></td></tr><tr><td colspan=\"2\"></td><td class=\"subtext\">\n",
      "        <span class=\"score\" id=\"score_23304194\">96 points</span> by <a href=\"user?id=onny\" class=\"hnuser\">onny</a> <span class=\"age\"><a href=\"item?id=23304194\">6 hours ago</a></span> <span id=\"unv_23304194\"></span> | <a href=\"hide?id=23304194&amp;goto=news\">hide</a> | <a href=\"item?id=23304194\">70&nbsp;comments</a>              </td></tr>\n",
      "      <tr class=\"spacer\" style=\"height:5px\"></tr>\n",
      "                <tr class='athing' id='23306480'>\n",
      "      <td align=\"right\" valign=\"top\" class=\"title\"><span class=\"rank\">11.</span></td>      <td valign=\"top\" class=\"votelinks\"><center><a id='up_23306480' href='vote?id=23306480&amp;how=up&amp;goto=news'><div class='votearrow' title='upvote'></div></a></center></td><td class=\"title\"><a href=\"https://sod.pixlab.io/\" class=\"storylink\" rel=\"nofollow\">Sod – An Embedded Computer Vision and Machine Learning Tiny C Library</a><span class=\"sitebit comhead\"> (<a href=\"from?site=pixlab.io\"><span class=\"sitestr\">pixlab.io</span></a>)</span></td></tr><tr><td colspan=\"2\"></td><td class=\"subtext\">\n",
      "        <span class=\"score\" id=\"score_23306480\">5 points</span> by <a href=\"user?id=symisc_devel\" class=\"hnuser\">symisc_devel</a> <span class=\"age\"><a href=\"item?id=23306480\">34 minutes ago</a></span> <span id=\"unv_23306480\"></span> | <a href=\"hide?id=23306480&amp;goto=news\">hide</a> | <a href=\"item?id=23306480\">1&nbsp;comment</a>              </td></tr>\n",
      "      <tr class=\"spacer\" style=\"height:5px\"></tr>\n",
      "                <tr class='athing' id='23304536'>\n",
      "      <td align=\"right\" valign=\"top\" class=\"title\"><span class=\"rank\">12.</span></td>      <td valign=\"top\" class=\"votelinks\"><center><a id='up_23304536' href='vote?id=23304536&amp;how=up&amp;goto=news'><div class='votearrow' title='upvote'></div></a></center></td><td class=\"title\"><a href=\"https://old.reddit.com/r/techsupport/comments/gqb915/i_wrote_task_manager_and_i_just_remembered/\" class=\"storylink\">I wrote Task Manager and I just remembered something</a><span class=\"sitebit comhead\"> (<a href=\"from?site=reddit.com\"><span class=\"sitestr\">reddit.com</span></a>)</span></td></tr><tr><td colspan=\"2\"></td><td class=\"subtext\">\n",
      "        <span class=\"score\" id=\"score_23304536\">417 points</span> by <a href=\"user?id=notRobot\" class=\"hnuser\">notRobot</a> <span class=\"age\"><a href=\"item?id=23304536\">5 hours ago</a></span> <span id=\"unv_23304536\"></span> | <a href=\"hide?id=23304536&amp;goto=news\">hide</a> | <a href=\"item?id=23304536\">47&nbsp;comments</a>              </td></tr>\n",
      "      <tr class=\"spacer\" style=\"height:5px\"></tr>\n",
      "                <tr class='athing' id='23303583'>\n",
      "      <td align=\"right\" valign=\"top\" class=\"title\"><span class=\"rank\">13.</span></td>      <td valign=\"top\" class=\"votelinks\"><center><a id='up_23303583' href='vote?id=23303583&amp;how=up&amp;goto=news'><div class='votearrow' title='upvote'></div></a></center></td><td class=\"title\"><a href=\"https://en.wikipedia.org/wiki/Duff%27s_device\" class=\"storylink\">Duff's Device</a><span class=\"sitebit comhead\"> (<a href=\"from?site=wikipedia.org\"><span class=\"sitestr\">wikipedia.org</span></a>)</span></td></tr><tr><td colspan=\"2\"></td><td class=\"subtext\">\n",
      "        <span class=\"score\" id=\"score_23303583\">90 points</span> by <a href=\"user?id=simonpure\" class=\"hnuser\">simonpure</a> <span class=\"age\"><a href=\"item?id=23303583\">7 hours ago</a></span> <span id=\"unv_23303583\"></span> | <a href=\"hide?id=23303583&amp;goto=news\">hide</a> | <a href=\"item?id=23303583\">33&nbsp;comments</a>              </td></tr>\n",
      "      <tr class=\"spacer\" style=\"height:5px\"></tr>\n",
      "                <tr class='athing' id='23304457'>\n",
      "      <td align=\"right\" valign=\"top\" class=\"title\"><span class=\"rank\">14.</span></td>      <td valign=\"top\" class=\"votelinks\"><center><a id='up_23304457' href='vote?id=23304457&amp;how=up&amp;goto=news'><div class='votearrow' title='upvote'></div></a></center></td><td class=\"title\"><a href=\"https://www.emacswiki.org/emacs/GuileEmacs\" class=\"storylink\">Guilemacs – Emacs with Guile Scheme</a><span class=\"sitebit comhead\"> (<a href=\"from?site=emacswiki.org\"><span class=\"sitestr\">emacswiki.org</span></a>)</span></td></tr><tr><td colspan=\"2\"></td><td class=\"subtext\">\n",
      "        <span class=\"score\" id=\"score_23304457\">74 points</span> by <a href=\"user?id=MintelIE\" class=\"hnuser\">MintelIE</a> <span class=\"age\"><a href=\"item?id=23304457\">5 hours ago</a></span> <span id=\"unv_23304457\"></span> | <a href=\"hide?id=23304457&amp;goto=news\">hide</a> | <a href=\"item?id=23304457\">16&nbsp;comments</a>              </td></tr>\n",
      "      <tr class=\"spacer\" style=\"height:5px\"></tr>\n",
      "                <tr class='athing' id='23305064'>\n",
      "      <td align=\"right\" valign=\"top\" class=\"title\"><span class=\"rank\">15.</span></td>      <td valign=\"top\" class=\"votelinks\"><center><a id='up_23305064' href='vote?id=23305064&amp;how=up&amp;goto=news'><div class='votearrow' title='upvote'></div></a></center></td><td class=\"title\"><a href=\"https://www.indiatoday.in/technology/news/story/google-removes-over-5-million-reviews-from-play-store-to-improve-tiktok-rating-1681721-2020-05-25\" class=\"storylink\">Google removes over 5M reviews from Play Store to improve TikTok rating</a><span class=\"sitebit comhead\"> (<a href=\"from?site=indiatoday.in\"><span class=\"sitestr\">indiatoday.in</span></a>)</span></td></tr><tr><td colspan=\"2\"></td><td class=\"subtext\">\n",
      "        <span class=\"score\" id=\"score_23305064\">128 points</span> by <a href=\"user?id=sdan\" class=\"hnuser\">sdan</a> <span class=\"age\"><a href=\"item?id=23305064\">4 hours ago</a></span> <span id=\"unv_23305064\"></span> | <a href=\"hide?id=23305064&amp;goto=news\">hide</a> | <a href=\"item?id=23305064\">27&nbsp;comments</a>              </td></tr>\n",
      "      <tr class=\"spacer\" style=\"height:5px\"></tr>\n",
      "                <tr class='athing' id='23303602'>\n",
      "      <td align=\"right\" valign=\"top\" class=\"title\"><span class=\"rank\">16.</span></td>      <td valign=\"top\" class=\"votelinks\"><center><a id='up_23303602' href='vote?id=23303602&amp;how=up&amp;goto=news'><div class='votearrow' title='upvote'></div></a></center></td><td class=\"title\"><a href=\"http://boazsobrado.com/blog/2020/05/22/a-day-using-money-in-cuba/\" class=\"storylink\">A day using money in Cuba</a><span class=\"sitebit comhead\"> (<a href=\"from?site=boazsobrado.com\"><span class=\"sitestr\">boazsobrado.com</span></a>)</span></td></tr><tr><td colspan=\"2\"></td><td class=\"subtext\">\n",
      "        <span class=\"score\" id=\"score_23303602\">87 points</span> by <a href=\"user?id=jpkoning\" class=\"hnuser\">jpkoning</a> <span class=\"age\"><a href=\"item?id=23303602\">7 hours ago</a></span> <span id=\"unv_23303602\"></span> | <a href=\"hide?id=23303602&amp;goto=news\">hide</a> | <a href=\"item?id=23303602\">72&nbsp;comments</a>              </td></tr>\n",
      "      <tr class=\"spacer\" style=\"height:5px\"></tr>\n",
      "                <tr class='athing' id='23302250'>\n",
      "      <td align=\"right\" valign=\"top\" class=\"title\"><span class=\"rank\">17.</span></td>      <td valign=\"top\" class=\"votelinks\"><center><a id='up_23302250' href='vote?id=23302250&amp;how=up&amp;goto=news'><div class='votearrow' title='upvote'></div></a></center></td><td class=\"title\"><a href=\"https://en.wikipedia.org/wiki/Intelligent_disobedience\" class=\"storylink\">Intelligent Disobedience</a><span class=\"sitebit comhead\"> (<a href=\"from?site=wikipedia.org\"><span class=\"sitestr\">wikipedia.org</span></a>)</span></td></tr><tr><td colspan=\"2\"></td><td class=\"subtext\">\n",
      "        <span class=\"score\" id=\"score_23302250\">158 points</span> by <a href=\"user?id=hhs\" class=\"hnuser\">hhs</a> <span class=\"age\"><a href=\"item?id=23302250\">9 hours ago</a></span> <span id=\"unv_23302250\"></span> | <a href=\"hide?id=23302250&amp;goto=news\">hide</a> | <a href=\"item?id=23302250\">57&nbsp;comments</a>              </td></tr>\n",
      "      <tr class=\"spacer\" style=\"height:5px\"></tr>\n",
      "                <tr class='athing' id='23302102'>\n",
      "      <td align=\"right\" valign=\"top\" class=\"title\"><span class=\"rank\">18.</span></td>      <td valign=\"top\" class=\"votelinks\"><center><a id='up_23302102' href='vote?id=23302102&amp;how=up&amp;goto=news'><div class='votearrow' title='upvote'></div></a></center></td><td class=\"title\"><a href=\"https://benjamincongdon.me/blog/2020/05/23/Solving-the-Miracle-Sudoku-in-Prolog/\" class=\"storylink\">Solving the “Miracle Sudoku” in Prolog</a><span class=\"sitebit comhead\"> (<a href=\"from?site=benjamincongdon.me\"><span class=\"sitestr\">benjamincongdon.me</span></a>)</span></td></tr><tr><td colspan=\"2\"></td><td class=\"subtext\">\n",
      "        <span class=\"score\" id=\"score_23302102\">233 points</span> by <a href=\"user?id=andrelaszlo\" class=\"hnuser\">andrelaszlo</a> <span class=\"age\"><a href=\"item?id=23302102\">10 hours ago</a></span> <span id=\"unv_23302102\"></span> | <a href=\"hide?id=23302102&amp;goto=news\">hide</a> | <a href=\"item?id=23302102\">24&nbsp;comments</a>              </td></tr>\n",
      "      <tr class=\"spacer\" style=\"height:5px\"></tr>\n",
      "                <tr class='athing' id='23305111'>\n",
      "      <td align=\"right\" valign=\"top\" class=\"title\"><span class=\"rank\">19.</span></td>      <td valign=\"top\" class=\"votelinks\"><center><a id='up_23305111' href='vote?id=23305111&amp;how=up&amp;goto=news'><div class='votearrow' title='upvote'></div></a></center></td><td class=\"title\"><a href=\"item?id=23305111\" class=\"storylink\">Ask HN: Has anybody shipped a web app at scale with 1 DB per account?</a></td></tr><tr><td colspan=\"2\"></td><td class=\"subtext\">\n",
      "        <span class=\"score\" id=\"score_23305111\">49 points</span> by <a href=\"user?id=bradgessler\" class=\"hnuser\">bradgessler</a> <span class=\"age\"><a href=\"item?id=23305111\">3 hours ago</a></span> <span id=\"unv_23305111\"></span> | <a href=\"hide?id=23305111&amp;goto=news\">hide</a> | <a href=\"item?id=23305111\">60&nbsp;comments</a>              </td></tr>\n",
      "      <tr class=\"spacer\" style=\"height:5px\"></tr>\n",
      "                <tr class='athing' id='23299883'>\n",
      "      <td align=\"right\" valign=\"top\" class=\"title\"><span class=\"rank\">20.</span></td>      <td valign=\"top\" class=\"votelinks\"><center><a id='up_23299883' href='vote?id=23299883&amp;how=up&amp;goto=news'><div class='votearrow' title='upvote'></div></a></center></td><td class=\"title\"><a href=\"https://github.com/CodeDarigan/WATSharp\" class=\"storylink\">Wat-Sharp: A C# Wrapper Around Wat to Unit Test Your C# Godot Games</a><span class=\"sitebit comhead\"> (<a href=\"from?site=github.com\"><span class=\"sitestr\">github.com</span></a>)</span></td></tr><tr><td colspan=\"2\"></td><td class=\"subtext\">\n",
      "        <span class=\"score\" id=\"score_23299883\">14 points</span> by <a href=\"user?id=AlexAndThunder\" class=\"hnuser\">AlexAndThunder</a> <span class=\"age\"><a href=\"item?id=23299883\">3 hours ago</a></span> <span id=\"unv_23299883\"></span> | <a href=\"hide?id=23299883&amp;goto=news\">hide</a> | <a href=\"item?id=23299883\">1&nbsp;comment</a>              </td></tr>\n",
      "      <tr class=\"spacer\" style=\"height:5px\"></tr>\n",
      "                <tr class='athing' id='23305598'>\n",
      "      <td align=\"right\" valign=\"top\" class=\"title\"><span class=\"rank\">21.</span></td>      <td valign=\"top\" class=\"votelinks\"><center><a id='up_23305598' href='vote?id=23305598&amp;how=up&amp;goto=news'><div class='votearrow' title='upvote'></div></a></center></td><td class=\"title\"><a href=\"https://www.sciinc.com/remotevms/vms_techinfo/vms_news/OpenVMSOnX86-64.asp\" class=\"storylink\">SCI Runs OpenVMS on x86-64</a><span class=\"sitebit comhead\"> (<a href=\"from?site=sciinc.com\"><span class=\"sitestr\">sciinc.com</span></a>)</span></td></tr><tr><td colspan=\"2\"></td><td class=\"subtext\">\n",
      "        <span class=\"score\" id=\"score_23305598\">16 points</span> by <a href=\"user?id=xeeeeeeeeeeenu\" class=\"hnuser\">xeeeeeeeeeeenu</a> <span class=\"age\"><a href=\"item?id=23305598\">3 hours ago</a></span> <span id=\"unv_23305598\"></span> | <a href=\"hide?id=23305598&amp;goto=news\">hide</a> | <a href=\"item?id=23305598\">8&nbsp;comments</a>              </td></tr>\n",
      "      <tr class=\"spacer\" style=\"height:5px\"></tr>\n",
      "                <tr class='athing' id='23300662'>\n",
      "      <td align=\"right\" valign=\"top\" class=\"title\"><span class=\"rank\">22.</span></td>      <td valign=\"top\" class=\"votelinks\"><center><a id='up_23300662' href='vote?id=23300662&amp;how=up&amp;goto=news'><div class='votearrow' title='upvote'></div></a></center></td><td class=\"title\"><a href=\"http://www.madore.org/~david/computers/quine.html\" class=\"storylink\" rel=\"nofollow\">Quines (self-replicating programs)</a><span class=\"sitebit comhead\"> (<a href=\"from?site=madore.org\"><span class=\"sitestr\">madore.org</span></a>)</span></td></tr><tr><td colspan=\"2\"></td><td class=\"subtext\">\n",
      "        <span class=\"score\" id=\"score_23300662\">4 points</span> by <a href=\"user?id=lelf\" class=\"hnuser\">lelf</a> <span class=\"age\"><a href=\"item?id=23300662\">1 hour ago</a></span> <span id=\"unv_23300662\"></span> | <a href=\"hide?id=23300662&amp;goto=news\">hide</a> | <a href=\"item?id=23300662\">discuss</a>              </td></tr>\n",
      "      <tr class=\"spacer\" style=\"height:5px\"></tr>\n",
      "                <tr class='athing' id='23305012'>\n",
      "      <td align=\"right\" valign=\"top\" class=\"title\"><span class=\"rank\">23.</span></td>      <td valign=\"top\" class=\"votelinks\"><center><a id='up_23305012' href='vote?id=23305012&amp;how=up&amp;goto=news'><div class='votearrow' title='upvote'></div></a></center></td><td class=\"title\"><a href=\"https://virtuallyfun.com/wordpress/2020/05/22/examining-windows-1-0-hello-c/\" class=\"storylink\">Examining Windows 1.0 Hello.c</a><span class=\"sitebit comhead\"> (<a href=\"from?site=virtuallyfun.com\"><span class=\"sitestr\">virtuallyfun.com</span></a>)</span></td></tr><tr><td colspan=\"2\"></td><td class=\"subtext\">\n",
      "        <span class=\"score\" id=\"score_23305012\">52 points</span> by <a href=\"user?id=Narishma\" class=\"hnuser\">Narishma</a> <span class=\"age\"><a href=\"item?id=23305012\">4 hours ago</a></span> <span id=\"unv_23305012\"></span> | <a href=\"hide?id=23305012&amp;goto=news\">hide</a> | <a href=\"item?id=23305012\">13&nbsp;comments</a>              </td></tr>\n",
      "      <tr class=\"spacer\" style=\"height:5px\"></tr>\n",
      "                <tr class='athing' id='23298668'>\n",
      "      <td align=\"right\" valign=\"top\" class=\"title\"><span class=\"rank\">24.</span></td>      <td valign=\"top\" class=\"votelinks\"><center><a id='up_23298668' href='vote?id=23298668&amp;how=up&amp;goto=news'><div class='votearrow' title='upvote'></div></a></center></td><td class=\"title\"><a href=\"https://online.stanford.edu/courses/sohs-music0001-online-jamming-and-concert-technology\" class=\"storylink\">Online Jamming and Concert Technology</a><span class=\"sitebit comhead\"> (<a href=\"from?site=stanford.edu\"><span class=\"sitestr\">stanford.edu</span></a>)</span></td></tr><tr><td colspan=\"2\"></td><td class=\"subtext\">\n",
      "        <span class=\"score\" id=\"score_23298668\">55 points</span> by <a href=\"user?id=borski\" class=\"hnuser\">borski</a> <span class=\"age\"><a href=\"item?id=23298668\">6 hours ago</a></span> <span id=\"unv_23298668\"></span> | <a href=\"hide?id=23298668&amp;goto=news\">hide</a> | <a href=\"item?id=23298668\">19&nbsp;comments</a>              </td></tr>\n",
      "      <tr class=\"spacer\" style=\"height:5px\"></tr>\n",
      "                <tr class='athing' id='23305836'>\n",
      "      <td align=\"right\" valign=\"top\" class=\"title\"><span class=\"rank\">25.</span></td>      <td></td><td class=\"title\"><a href=\"https://www.easypost.com/careers\" class=\"storylink\" rel=\"nofollow\">EasyPost (YC S13) is hiring</a><span class=\"sitebit comhead\"> (<a href=\"from?site=easypost.com\"><span class=\"sitestr\">easypost.com</span></a>)</span></td></tr><tr><td colspan=\"2\"></td><td class=\"subtext\">\n",
      "        <span class=\"age\"><a href=\"item?id=23305836\">2 hours ago</a></span> | <a href=\"hide?id=23305836&amp;goto=news\">hide</a>      </td></tr>\n",
      "      <tr class=\"spacer\" style=\"height:5px\"></tr>\n",
      "                <tr class='athing' id='23302403'>\n",
      "      <td align=\"right\" valign=\"top\" class=\"title\"><span class=\"rank\">26.</span></td>      <td valign=\"top\" class=\"votelinks\"><center><a id='up_23302403' href='vote?id=23302403&amp;how=up&amp;goto=news'><div class='votearrow' title='upvote'></div></a></center></td><td class=\"title\"><a href=\"https://the-eye.eu/public/Software/Old%20Apps/DOS%20Resources/Undocumented%20dos%20tips.txt\" class=\"storylink\">Shhh: The Undocumented DOS Commands (1999)</a><span class=\"sitebit comhead\"> (<a href=\"from?site=the-eye.eu\"><span class=\"sitestr\">the-eye.eu</span></a>)</span></td></tr><tr><td colspan=\"2\"></td><td class=\"subtext\">\n",
      "        <span class=\"score\" id=\"score_23302403\">114 points</span> by <a href=\"user?id=csapdani\" class=\"hnuser\">csapdani</a> <span class=\"age\"><a href=\"item?id=23302403\">9 hours ago</a></span> <span id=\"unv_23302403\"></span> | <a href=\"hide?id=23302403&amp;goto=news\">hide</a> | <a href=\"item?id=23302403\">46&nbsp;comments</a>              </td></tr>\n",
      "      <tr class=\"spacer\" style=\"height:5px\"></tr>\n",
      "                <tr class='athing' id='23296353'>\n",
      "      <td align=\"right\" valign=\"top\" class=\"title\"><span class=\"rank\">27.</span></td>      <td valign=\"top\" class=\"votelinks\"><center><a id='up_23296353' href='vote?id=23296353&amp;how=up&amp;goto=news'><div class='votearrow' title='upvote'></div></a></center></td><td class=\"title\"><a href=\"https://www.nytimes.com/2020/05/24/business/media/new-model-celebrity.html\" class=\"storylink\">The new model media star is only famous to you</a><span class=\"sitebit comhead\"> (<a href=\"from?site=nytimes.com\"><span class=\"sitestr\">nytimes.com</span></a>)</span></td></tr><tr><td colspan=\"2\"></td><td class=\"subtext\">\n",
      "        <span class=\"score\" id=\"score_23296353\">33 points</span> by <a href=\"user?id=tysone\" class=\"hnuser\">tysone</a> <span class=\"age\"><a href=\"item?id=23296353\">5 hours ago</a></span> <span id=\"unv_23296353\"></span> | <a href=\"hide?id=23296353&amp;goto=news\">hide</a> | <a href=\"item?id=23296353\">7&nbsp;comments</a>              </td></tr>\n",
      "      <tr class=\"spacer\" style=\"height:5px\"></tr>\n",
      "                <tr class='athing' id='23305460'>\n",
      "      <td align=\"right\" valign=\"top\" class=\"title\"><span class=\"rank\">28.</span></td>      <td valign=\"top\" class=\"votelinks\"><center><a id='up_23305460' href='vote?id=23305460&amp;how=up&amp;goto=news'><div class='votearrow' title='upvote'></div></a></center></td><td class=\"title\"><a href=\"https://blog.pragmaticengineer.com/the-developer-culture-test/\" class=\"storylink\">A Better Joel Test: The Developer Culture Test</a><span class=\"sitebit comhead\"> (<a href=\"from?site=pragmaticengineer.com\"><span class=\"sitestr\">pragmaticengineer.com</span></a>)</span></td></tr><tr><td colspan=\"2\"></td><td class=\"subtext\">\n",
      "        <span class=\"score\" id=\"score_23305460\">22 points</span> by <a href=\"user?id=gregdoesit\" class=\"hnuser\">gregdoesit</a> <span class=\"age\"><a href=\"item?id=23305460\">3 hours ago</a></span> <span id=\"unv_23305460\"></span> | <a href=\"hide?id=23305460&amp;goto=news\">hide</a> | <a href=\"item?id=23305460\">2&nbsp;comments</a>              </td></tr>\n",
      "      <tr class=\"spacer\" style=\"height:5px\"></tr>\n",
      "                <tr class='athing' id='23302762'>\n",
      "      <td align=\"right\" valign=\"top\" class=\"title\"><span class=\"rank\">29.</span></td>      <td valign=\"top\" class=\"votelinks\"><center><a id='up_23302762' href='vote?id=23302762&amp;how=up&amp;goto=news'><div class='votearrow' title='upvote'></div></a></center></td><td class=\"title\"><a href=\"https://azure.github.io/SONiC/\" class=\"storylink\">SONiC – An Open Source Network Operating System</a><span class=\"sitebit comhead\"> (<a href=\"from?site=azure.github.io\"><span class=\"sitestr\">azure.github.io</span></a>)</span></td></tr><tr><td colspan=\"2\"></td><td class=\"subtext\">\n",
      "        <span class=\"score\" id=\"score_23302762\">91 points</span> by <a href=\"user?id=jamieweb\" class=\"hnuser\">jamieweb</a> <span class=\"age\"><a href=\"item?id=23302762\">8 hours ago</a></span> <span id=\"unv_23302762\"></span> | <a href=\"hide?id=23302762&amp;goto=news\">hide</a> | <a href=\"item?id=23302762\">27&nbsp;comments</a>              </td></tr>\n",
      "      <tr class=\"spacer\" style=\"height:5px\"></tr>\n",
      "                <tr class='athing' id='23302871'>\n",
      "      <td align=\"right\" valign=\"top\" class=\"title\"><span class=\"rank\">30.</span></td>      <td valign=\"top\" class=\"votelinks\"><center><a id='up_23302871' href='vote?id=23302871&amp;how=up&amp;goto=news'><div class='votearrow' title='upvote'></div></a></center></td><td class=\"title\"><a href=\"https://cinaq.com/post/2020/05/25/highly-available-kubernetes-with-batteries-for-small-business/\" class=\"storylink\">Highly available Kubernetes with batteries for small business</a><span class=\"sitebit comhead\"> (<a href=\"from?site=cinaq.com\"><span class=\"sitestr\">cinaq.com</span></a>)</span></td></tr><tr><td colspan=\"2\"></td><td class=\"subtext\">\n",
      "        <span class=\"score\" id=\"score_23302871\">99 points</span> by <a href=\"user?id=xiwenc\" class=\"hnuser\">xiwenc</a> <span class=\"age\"><a href=\"item?id=23302871\">8 hours ago</a></span> <span id=\"unv_23302871\"></span> | <a href=\"hide?id=23302871&amp;goto=news\">hide</a> | <a href=\"item?id=23302871\">52&nbsp;comments</a>              </td></tr>\n",
      "      <tr class=\"spacer\" style=\"height:5px\"></tr>\n",
      "            <tr class=\"morespace\" style=\"height:10px\"></tr><tr><td colspan=\"2\"></td><td class=\"title\"><a href=\"news?p=2\" class=\"morelink\" rel=\"next\">More</a></td></tr>\n",
      "  </table>\n",
      "</td></tr>\n",
      "<tr><td><img src=\"s.gif\" height=\"10\" width=\"0\"><table width=\"100%\" cellspacing=\"0\" cellpadding=\"1\"><tr><td bgcolor=\"#ff6600\"></td></tr></table><br><center><span class=\"yclinks\"><a href=\"newsguidelines.html\">Guidelines</a>\n",
      "        | <a href=\"newsfaq.html\">FAQ</a>\n",
      "        | <a href=\"mailto:hn@ycombinator.com\">Support</a>\n",
      "        | <a href=\"https://github.com/HackerNews/API\">API</a>\n",
      "        | <a href=\"security.html\">Security</a>\n",
      "        | <a href=\"lists\">Lists</a>\n",
      "        | <a href=\"bookmarklet.html\" rel=\"nofollow\">Bookmarklet</a>\n",
      "        | <a href=\"http://www.ycombinator.com/legal/\">Legal</a>\n",
      "        | <a href=\"http://www.ycombinator.com/apply/\">Apply to YC</a>\n",
      "        | <a href=\"mailto:hn@ycombinator.com\">Contact</a></span><br><br><form method=\"get\" action=\"//hn.algolia.com/\">Search:\n",
      "          <input type=\"text\" name=\"q\" value=\"\" size=\"17\" autocorrect=\"off\" spellcheck=\"false\" autocapitalize=\"off\" autocomplete=\"false\"></form>\n",
      "            </center></td></tr>\n",
      "      </table></center></body><script type='text/javascript' src='hn.js?5lxYZBQpuMNDRx1FzEN8'></script></html>\n",
      "\n"
     ]
    }
   ],
   "source": [
    "import requests\n",
    "\n",
    "# Fetch a web page\n",
    "r = requests.get(\"https://news.ycombinator.com\")\n",
    "print(r.text)"
   ]
  },
  {
   "cell_type": "code",
   "execution_count": 5,
   "metadata": {},
   "outputs": [
    {
     "name": "stdout",
     "output_type": "stream",
     "text": [
      "\n",
      "        \n",
      "          \n",
      "        Hacker News\n",
      "        \n",
      "                  Hacker News\n",
      "              new | past | comments | ask | show | jobs | submit            \n",
      "                              login\n",
      "                          \n",
      "              \n",
      "\n",
      "              \n",
      "      1.      Tell HN: Triplebyte reverses, emails apology\n",
      "        744 points by trianx 8 hours ago  | hide | 494&nbsp;comments              \n",
      "      \n",
      "                \n",
      "      2.      The US Army's earth-shaking, off-road land trains (thedrive.com)\n",
      "        198 points by tomohawk 4 hours ago  | hide | 43&nbsp;comments              \n",
      "      \n",
      "                \n",
      "      3.      I've collected over 600 pitch decks (starthouse.xyz)\n",
      "        119 points by drew_m 4 hours ago  | hide | 38&nbsp;comments              \n",
      "      \n",
      "                \n",
      "      4.      I bought netflix.soy (tinyprojects.dev)\n",
      "        228 points by stokesyio 5 hours ago  | hide | 151&nbsp;comments              \n",
      "      \n",
      "                \n",
      "      5.      Why is Idris 2 so much faster than Idris 1? (type-driven.org.uk)\n",
      "        188 points by culturedsystems 6 hours ago  | hide | 38&nbsp;comments              \n",
      "      \n",
      "                \n",
      "      6.      Two capacitor paradox (wikipedia.org)\n",
      "        376 points by rathel 11 hours ago  | hide | 153&nbsp;comments              \n",
      "      \n",
      "                \n",
      "      7.      Today’s JavaScript, from an Outsider’s Perspective (verou.me)\n",
      "        17 points by llacb47 55 minutes ago  | hide | 11&nbsp;comments              \n",
      "      \n",
      "                \n",
      "      8.      Lies, Damned Lies, and Stock-Based Compensation (tanay.substack.com)\n",
      "        58 points by pvsukale3 1 hour ago  | hide | 6&nbsp;comments              \n",
      "      \n",
      "                \n",
      "      9.      Show HN: PgTyped – Typesafe SQL in TypeScript and Postgres (github.com)\n",
      "        206 points by alde 9 hours ago  | hide | 67&nbsp;comments              \n",
      "      \n",
      "                \n",
      "      10.      Hardware fix for Dell “AC power adapter could not be determined” (project-insanity.org)\n",
      "        96 points by onny 6 hours ago  | hide | 70&nbsp;comments              \n",
      "      \n",
      "                \n",
      "      11.      Sod – An Embedded Computer Vision and Machine Learning Tiny C Library (pixlab.io)\n",
      "        5 points by symisc_devel 34 minutes ago  | hide | 1&nbsp;comment              \n",
      "      \n",
      "                \n",
      "      12.      I wrote Task Manager and I just remembered something (reddit.com)\n",
      "        417 points by notRobot 5 hours ago  | hide | 47&nbsp;comments              \n",
      "      \n",
      "                \n",
      "      13.      Duff's Device (wikipedia.org)\n",
      "        90 points by simonpure 7 hours ago  | hide | 33&nbsp;comments              \n",
      "      \n",
      "                \n",
      "      14.      Guilemacs – Emacs with Guile Scheme (emacswiki.org)\n",
      "        74 points by MintelIE 5 hours ago  | hide | 16&nbsp;comments              \n",
      "      \n",
      "                \n",
      "      15.      Google removes over 5M reviews from Play Store to improve TikTok rating (indiatoday.in)\n",
      "        128 points by sdan 4 hours ago  | hide | 27&nbsp;comments              \n",
      "      \n",
      "                \n",
      "      16.      A day using money in Cuba (boazsobrado.com)\n",
      "        87 points by jpkoning 7 hours ago  | hide | 72&nbsp;comments              \n",
      "      \n",
      "                \n",
      "      17.      Intelligent Disobedience (wikipedia.org)\n",
      "        158 points by hhs 9 hours ago  | hide | 57&nbsp;comments              \n",
      "      \n",
      "                \n",
      "      18.      Solving the “Miracle Sudoku” in Prolog (benjamincongdon.me)\n",
      "        233 points by andrelaszlo 10 hours ago  | hide | 24&nbsp;comments              \n",
      "      \n",
      "                \n",
      "      19.      Ask HN: Has anybody shipped a web app at scale with 1 DB per account?\n",
      "        49 points by bradgessler 3 hours ago  | hide | 60&nbsp;comments              \n",
      "      \n",
      "                \n",
      "      20.      Wat-Sharp: A C# Wrapper Around Wat to Unit Test Your C# Godot Games (github.com)\n",
      "        14 points by AlexAndThunder 3 hours ago  | hide | 1&nbsp;comment              \n",
      "      \n",
      "                \n",
      "      21.      SCI Runs OpenVMS on x86-64 (sciinc.com)\n",
      "        16 points by xeeeeeeeeeeenu 3 hours ago  | hide | 8&nbsp;comments              \n",
      "      \n",
      "                \n",
      "      22.      Quines (self-replicating programs) (madore.org)\n",
      "        4 points by lelf 1 hour ago  | hide | discuss              \n",
      "      \n",
      "                \n",
      "      23.      Examining Windows 1.0 Hello.c (virtuallyfun.com)\n",
      "        52 points by Narishma 4 hours ago  | hide | 13&nbsp;comments              \n",
      "      \n",
      "                \n",
      "      24.      Online Jamming and Concert Technology (stanford.edu)\n",
      "        55 points by borski 6 hours ago  | hide | 19&nbsp;comments              \n",
      "      \n",
      "                \n",
      "      25.      EasyPost (YC S13) is hiring (easypost.com)\n",
      "        2 hours ago | hide      \n",
      "      \n",
      "                \n",
      "      26.      Shhh: The Undocumented DOS Commands (1999) (the-eye.eu)\n",
      "        114 points by csapdani 9 hours ago  | hide | 46&nbsp;comments              \n",
      "      \n",
      "                \n",
      "      27.      The new model media star is only famous to you (nytimes.com)\n",
      "        33 points by tysone 5 hours ago  | hide | 7&nbsp;comments              \n",
      "      \n",
      "                \n",
      "      28.      A Better Joel Test: The Developer Culture Test (pragmaticengineer.com)\n",
      "        22 points by gregdoesit 3 hours ago  | hide | 2&nbsp;comments              \n",
      "      \n",
      "                \n",
      "      29.      SONiC – An Open Source Network Operating System (azure.github.io)\n",
      "        91 points by jamieweb 8 hours ago  | hide | 27&nbsp;comments              \n",
      "      \n",
      "                \n",
      "      30.      Highly available Kubernetes with batteries for small business (cinaq.com)\n",
      "        99 points by xiwenc 8 hours ago  | hide | 52&nbsp;comments              \n",
      "      \n",
      "            More\n",
      "  \n",
      "\n",
      "Guidelines\n",
      "        | FAQ\n",
      "        | Support\n",
      "        | API\n",
      "        | Security\n",
      "        | Lists\n",
      "        | Bookmarklet\n",
      "        | Legal\n",
      "        | Apply to YC\n",
      "        | ContactSearch:\n",
      "          \n",
      "            \n",
      "      \n",
      "\n"
     ]
    }
   ],
   "source": [
    "import re\n",
    "\n",
    "# Remove HTML tags using RegEx\n",
    "pattern = re.compile(r'<.*?>')  # tags look like <...>\n",
    "print(pattern.sub('', r.text))  # replace them with blank"
   ]
  },
  {
   "cell_type": "code",
   "execution_count": 6,
   "metadata": {},
   "outputs": [
    {
     "name": "stdout",
     "output_type": "stream",
     "text": [
      "\n",
      "        \n",
      "          \n",
      "        Hacker News\n",
      "        \n",
      "                  Hacker News\n",
      "              new | past | comments | ask | show | jobs | submit            \n",
      "                              login\n",
      "                          \n",
      "              \n",
      "\n",
      "              \n",
      "      1.      Tell HN: Triplebyte reverses, emails apology\n",
      "        744 points by trianx 8 hours ago  | hide | 494 comments              \n",
      "      \n",
      "                \n",
      "      2.      The US Army's earth-shaking, off-road land trains (thedrive.com)\n",
      "        198 points by tomohawk 4 hours ago  | hide | 43 comments              \n",
      "      \n",
      "                \n",
      "      3.      I've collected over 600 pitch decks (starthouse.xyz)\n",
      "        119 points by drew_m 4 hours ago  | hide | 38 comments              \n",
      "      \n",
      "                \n",
      "      4.      I bought netflix.soy (tinyprojects.dev)\n",
      "        228 points by stokesyio 5 hours ago  | hide | 151 comments              \n",
      "      \n",
      "                \n",
      "      5.      Why is Idris 2 so much faster than Idris 1? (type-driven.org.uk)\n",
      "        188 points by culturedsystems 6 hours ago  | hide | 38 comments              \n",
      "      \n",
      "                \n",
      "      6.      Two capacitor paradox (wikipedia.org)\n",
      "        376 points by rathel 11 hours ago  | hide | 153 comments              \n",
      "      \n",
      "                \n",
      "      7.      Today’s JavaScript, from an Outsider’s Perspective (verou.me)\n",
      "        17 points by llacb47 55 minutes ago  | hide | 11 comments              \n",
      "      \n",
      "                \n",
      "      8.      Lies, Damned Lies, and Stock-Based Compensation (tanay.substack.com)\n",
      "        58 points by pvsukale3 1 hour ago  | hide | 6 comments              \n",
      "      \n",
      "                \n",
      "      9.      Show HN: PgTyped – Typesafe SQL in TypeScript and Postgres (github.com)\n",
      "        206 points by alde 9 hours ago  | hide | 67 comments              \n",
      "      \n",
      "                \n",
      "      10.      Hardware fix for Dell “AC power adapter could not be determined” (project-insanity.org)\n",
      "        96 points by onny 6 hours ago  | hide | 70 comments              \n",
      "      \n",
      "                \n",
      "      11.      Sod – An Embedded Computer Vision and Machine Learning Tiny C Library (pixlab.io)\n",
      "        5 points by symisc_devel 34 minutes ago  | hide | 1 comment              \n",
      "      \n",
      "                \n",
      "      12.      I wrote Task Manager and I just remembered something (reddit.com)\n",
      "        417 points by notRobot 5 hours ago  | hide | 47 comments              \n",
      "      \n",
      "                \n",
      "      13.      Duff's Device (wikipedia.org)\n",
      "        90 points by simonpure 7 hours ago  | hide | 33 comments              \n",
      "      \n",
      "                \n",
      "      14.      Guilemacs – Emacs with Guile Scheme (emacswiki.org)\n",
      "        74 points by MintelIE 5 hours ago  | hide | 16 comments              \n",
      "      \n",
      "                \n",
      "      15.      Google removes over 5M reviews from Play Store to improve TikTok rating (indiatoday.in)\n",
      "        128 points by sdan 4 hours ago  | hide | 27 comments              \n",
      "      \n",
      "                \n",
      "      16.      A day using money in Cuba (boazsobrado.com)\n",
      "        87 points by jpkoning 7 hours ago  | hide | 72 comments              \n",
      "      \n",
      "                \n",
      "      17.      Intelligent Disobedience (wikipedia.org)\n",
      "        158 points by hhs 9 hours ago  | hide | 57 comments              \n",
      "      \n",
      "                \n",
      "      18.      Solving the “Miracle Sudoku” in Prolog (benjamincongdon.me)\n",
      "        233 points by andrelaszlo 10 hours ago  | hide | 24 comments              \n",
      "      \n",
      "                \n",
      "      19.      Ask HN: Has anybody shipped a web app at scale with 1 DB per account?\n",
      "        49 points by bradgessler 3 hours ago  | hide | 60 comments              \n",
      "      \n",
      "                \n",
      "      20.      Wat-Sharp: A C# Wrapper Around Wat to Unit Test Your C# Godot Games (github.com)\n",
      "        14 points by AlexAndThunder 3 hours ago  | hide | 1 comment              \n",
      "      \n",
      "                \n",
      "      21.      SCI Runs OpenVMS on x86-64 (sciinc.com)\n",
      "        16 points by xeeeeeeeeeeenu 3 hours ago  | hide | 8 comments              \n",
      "      \n",
      "                \n",
      "      22.      Quines (self-replicating programs) (madore.org)\n",
      "        4 points by lelf 1 hour ago  | hide | discuss              \n",
      "      \n",
      "                \n",
      "      23.      Examining Windows 1.0 Hello.c (virtuallyfun.com)\n",
      "        52 points by Narishma 4 hours ago  | hide | 13 comments              \n",
      "      \n",
      "                \n",
      "      24.      Online Jamming and Concert Technology (stanford.edu)\n",
      "        55 points by borski 6 hours ago  | hide | 19 comments              \n",
      "      \n",
      "                \n",
      "      25.      EasyPost (YC S13) is hiring (easypost.com)\n",
      "        2 hours ago | hide      \n",
      "      \n",
      "                \n",
      "      26.      Shhh: The Undocumented DOS Commands (1999) (the-eye.eu)\n",
      "        114 points by csapdani 9 hours ago  | hide | 46 comments              \n",
      "      \n",
      "                \n",
      "      27.      The new model media star is only famous to you (nytimes.com)\n",
      "        33 points by tysone 5 hours ago  | hide | 7 comments              \n",
      "      \n",
      "                \n",
      "      28.      A Better Joel Test: The Developer Culture Test (pragmaticengineer.com)\n",
      "        22 points by gregdoesit 3 hours ago  | hide | 2 comments              \n",
      "      \n",
      "                \n",
      "      29.      SONiC – An Open Source Network Operating System (azure.github.io)\n",
      "        91 points by jamieweb 8 hours ago  | hide | 27 comments              \n",
      "      \n",
      "                \n",
      "      30.      Highly available Kubernetes with batteries for small business (cinaq.com)\n",
      "        99 points by xiwenc 8 hours ago  | hide | 52 comments              \n",
      "      \n",
      "            More\n",
      "  \n",
      "\n",
      "Guidelines\n",
      "        | FAQ\n",
      "        | Support\n",
      "        | API\n",
      "        | Security\n",
      "        | Lists\n",
      "        | Bookmarklet\n",
      "        | Legal\n",
      "        | Apply to YC\n",
      "        | ContactSearch:\n",
      "          \n",
      "            \n",
      "      \n",
      "\n"
     ]
    }
   ],
   "source": [
    "from bs4 import BeautifulSoup\n",
    "\n",
    "# Remove HTML tags using Beautiful Soup library\n",
    "soup = BeautifulSoup(r.text, \"html5lib\")\n",
    "print(soup.get_text())"
   ]
  },
  {
   "cell_type": "code",
   "execution_count": 7,
   "metadata": {
    "scrolled": true
   },
   "outputs": [
    {
     "data": {
      "text/plain": [
       "<tr class=\"athing\" id=\"23303037\">\n",
       "      <td align=\"right\" class=\"title\" valign=\"top\"><span class=\"rank\">1.</span></td>      <td class=\"votelinks\" valign=\"top\"><center><a href=\"vote?id=23303037&amp;how=up&amp;goto=news\" id=\"up_23303037\"><div class=\"votearrow\" title=\"upvote\"></div></a></center></td><td class=\"title\"><a class=\"storylink\" href=\"item?id=23303037\">Tell HN: Triplebyte reverses, emails apology</a></td></tr>"
      ]
     },
     "execution_count": 7,
     "metadata": {},
     "output_type": "execute_result"
    }
   ],
   "source": [
    "# Find all articles\n",
    "summaries = soup.find_all(\"tr\", class_=\"athing\")\n",
    "summaries[0]"
   ]
  },
  {
   "cell_type": "code",
   "execution_count": 8,
   "metadata": {},
   "outputs": [
    {
     "data": {
      "text/plain": [
       "'Tell HN: Triplebyte reverses, emails apology'"
      ]
     },
     "execution_count": 8,
     "metadata": {},
     "output_type": "execute_result"
    }
   ],
   "source": [
    "# Extract title\n",
    "summaries[0].find(\"a\", class_=\"storylink\").get_text().strip()"
   ]
  },
  {
   "cell_type": "code",
   "execution_count": 9,
   "metadata": {},
   "outputs": [
    {
     "name": "stdout",
     "output_type": "stream",
     "text": [
      "30 Article summaries found. Sample:\n",
      "Tell HN: Triplebyte reverses, emails apology\n"
     ]
    }
   ],
   "source": [
    "# Find all articles, extract titles\n",
    "articles = []\n",
    "summaries = soup.find_all(\"tr\", class_=\"athing\")\n",
    "for summary in summaries:\n",
    "    title = summary.find(\"a\", class_=\"storylink\").get_text().strip()\n",
    "    articles.append((title))\n",
    "\n",
    "print(len(articles), \"Article summaries found. Sample:\")\n",
    "print(articles[0])"
   ]
  },
  {
   "cell_type": "markdown",
   "metadata": {
    "collapsed": true
   },
   "source": [
    "## Normalization"
   ]
  },
  {
   "cell_type": "markdown",
   "metadata": {},
   "source": [
    "### Case Normalization"
   ]
  },
  {
   "cell_type": "code",
   "execution_count": 10,
   "metadata": {},
   "outputs": [
    {
     "name": "stdout",
     "output_type": "stream",
     "text": [
      "The first time you see The Second Renaissance it may look boring. Look at it at least twice and definitely watch part 2. It will change your view of the matrix. Are the human people the ones who started the war ? Is AI a bad thing ?\n"
     ]
    }
   ],
   "source": [
    "# Sample text\n",
    "text = \"The first time you see The Second Renaissance it may look boring. Look at it at least twice and definitely watch part 2. It will change your view of the matrix. Are the human people the ones who started the war ? Is AI a bad thing ?\"\n",
    "print(text)"
   ]
  },
  {
   "cell_type": "code",
   "execution_count": 11,
   "metadata": {},
   "outputs": [
    {
     "name": "stdout",
     "output_type": "stream",
     "text": [
      "the first time you see the second renaissance it may look boring. look at it at least twice and definitely watch part 2. it will change your view of the matrix. are the human people the ones who started the war ? is ai a bad thing ?\n"
     ]
    }
   ],
   "source": [
    "# Convert to lowercase\n",
    "text = text.lower() \n",
    "print(text)"
   ]
  },
  {
   "cell_type": "markdown",
   "metadata": {},
   "source": [
    "### Punctuation Removal"
   ]
  },
  {
   "cell_type": "code",
   "execution_count": 12,
   "metadata": {},
   "outputs": [
    {
     "name": "stdout",
     "output_type": "stream",
     "text": [
      "the first time you see the second renaissance it may look boring  look at it at least twice and definitely watch part 2  it will change your view of the matrix  are the human people the ones who started the war   is ai a bad thing  \n"
     ]
    }
   ],
   "source": [
    "import re\n",
    "\n",
    "# Remove punctuation characters\n",
    "text = re.sub(r\"[^a-zA-Z0-9]\", \" \", text) \n",
    "print(text)"
   ]
  },
  {
   "cell_type": "markdown",
   "metadata": {},
   "source": [
    "## Tokenization"
   ]
  },
  {
   "cell_type": "code",
   "execution_count": 13,
   "metadata": {},
   "outputs": [
    {
     "name": "stdout",
     "output_type": "stream",
     "text": [
      "['the', 'first', 'time', 'you', 'see', 'the', 'second', 'renaissance', 'it', 'may', 'look', 'boring', 'look', 'at', 'it', 'at', 'least', 'twice', 'and', 'definitely', 'watch', 'part', '2', 'it', 'will', 'change', 'your', 'view', 'of', 'the', 'matrix', 'are', 'the', 'human', 'people', 'the', 'ones', 'who', 'started', 'the', 'war', 'is', 'ai', 'a', 'bad', 'thing']\n"
     ]
    }
   ],
   "source": [
    "# Split text into tokens (words)\n",
    "words = text.split()\n",
    "print(words)"
   ]
  },
  {
   "cell_type": "markdown",
   "metadata": {},
   "source": [
    "### NLTK: Natural Language ToolKit"
   ]
  },
  {
   "cell_type": "code",
   "execution_count": 14,
   "metadata": {},
   "outputs": [],
   "source": [
    "import os\n",
    "import nltk\n",
    "nltk.data.path.append(os.path.join(os.getcwd(), \"nltk_data\"))"
   ]
  },
  {
   "cell_type": "code",
   "execution_count": 15,
   "metadata": {},
   "outputs": [
    {
     "name": "stdout",
     "output_type": "stream",
     "text": [
      "Dr. Smith graduated from the University of Washington. He later started an analytics firm called Lux, which catered to enterprise customers.\n"
     ]
    }
   ],
   "source": [
    "# Another sample text\n",
    "text = \"Dr. Smith graduated from the University of Washington. He later started an analytics firm called Lux, which catered to enterprise customers.\"\n",
    "print(text)"
   ]
  },
  {
   "cell_type": "code",
   "execution_count": 16,
   "metadata": {},
   "outputs": [
    {
     "name": "stdout",
     "output_type": "stream",
     "text": [
      "['Dr.', 'Smith', 'graduated', 'from', 'the', 'University', 'of', 'Washington', '.', 'He', 'later', 'started', 'an', 'analytics', 'firm', 'called', 'Lux', ',', 'which', 'catered', 'to', 'enterprise', 'customers', '.']\n"
     ]
    }
   ],
   "source": [
    "from nltk.tokenize import word_tokenize\n",
    "\n",
    "# Split text into words using NLTK\n",
    "words = word_tokenize(text)\n",
    "print(words)"
   ]
  },
  {
   "cell_type": "code",
   "execution_count": 17,
   "metadata": {},
   "outputs": [
    {
     "name": "stdout",
     "output_type": "stream",
     "text": [
      "['Dr. Smith graduated from the University of Washington.', 'He later started an analytics firm called Lux, which catered to enterprise customers.']\n"
     ]
    }
   ],
   "source": [
    "from nltk.tokenize import sent_tokenize\n",
    "\n",
    "# Split text into sentences\n",
    "sentences = sent_tokenize(text)\n",
    "print(sentences)"
   ]
  },
  {
   "cell_type": "code",
   "execution_count": 18,
   "metadata": {},
   "outputs": [
    {
     "name": "stdout",
     "output_type": "stream",
     "text": [
      "['i', 'me', 'my', 'myself', 'we', 'our', 'ours', 'ourselves', 'you', \"you're\", \"you've\", \"you'll\", \"you'd\", 'your', 'yours', 'yourself', 'yourselves', 'he', 'him', 'his', 'himself', 'she', \"she's\", 'her', 'hers', 'herself', 'it', \"it's\", 'its', 'itself', 'they', 'them', 'their', 'theirs', 'themselves', 'what', 'which', 'who', 'whom', 'this', 'that', \"that'll\", 'these', 'those', 'am', 'is', 'are', 'was', 'were', 'be', 'been', 'being', 'have', 'has', 'had', 'having', 'do', 'does', 'did', 'doing', 'a', 'an', 'the', 'and', 'but', 'if', 'or', 'because', 'as', 'until', 'while', 'of', 'at', 'by', 'for', 'with', 'about', 'against', 'between', 'into', 'through', 'during', 'before', 'after', 'above', 'below', 'to', 'from', 'up', 'down', 'in', 'out', 'on', 'off', 'over', 'under', 'again', 'further', 'then', 'once', 'here', 'there', 'when', 'where', 'why', 'how', 'all', 'any', 'both', 'each', 'few', 'more', 'most', 'other', 'some', 'such', 'no', 'nor', 'not', 'only', 'own', 'same', 'so', 'than', 'too', 'very', 's', 't', 'can', 'will', 'just', 'don', \"don't\", 'should', \"should've\", 'now', 'd', 'll', 'm', 'o', 're', 've', 'y', 'ain', 'aren', \"aren't\", 'couldn', \"couldn't\", 'didn', \"didn't\", 'doesn', \"doesn't\", 'hadn', \"hadn't\", 'hasn', \"hasn't\", 'haven', \"haven't\", 'isn', \"isn't\", 'ma', 'mightn', \"mightn't\", 'mustn', \"mustn't\", 'needn', \"needn't\", 'shan', \"shan't\", 'shouldn', \"shouldn't\", 'wasn', \"wasn't\", 'weren', \"weren't\", 'won', \"won't\", 'wouldn', \"wouldn't\"]\n"
     ]
    }
   ],
   "source": [
    "# List stop words\n",
    "from nltk.corpus import stopwords\n",
    "print(stopwords.words(\"english\"))"
   ]
  },
  {
   "cell_type": "code",
   "execution_count": 19,
   "metadata": {},
   "outputs": [
    {
     "name": "stdout",
     "output_type": "stream",
     "text": [
      "['the', 'first', 'time', 'you', 'see', 'the', 'second', 'renaissance', 'it', 'may', 'look', 'boring', 'look', 'at', 'it', 'at', 'least', 'twice', 'and', 'definitely', 'watch', 'part', '2', 'it', 'will', 'change', 'your', 'view', 'of', 'the', 'matrix', 'are', 'the', 'human', 'people', 'the', 'ones', 'who', 'started', 'the', 'war', 'is', 'ai', 'a', 'bad', 'thing']\n"
     ]
    }
   ],
   "source": [
    "# Reset text\n",
    "text = \"The first time you see The Second Renaissance it may look boring. Look at it at least twice and definitely watch part 2. It will change your view of the matrix. Are the human people the ones who started the war ? Is AI a bad thing ?\"\n",
    "\n",
    "# Normalize it\n",
    "text = re.sub(r\"[^a-zA-Z0-9]\", \" \", text.lower())\n",
    "\n",
    "# Tokenize it\n",
    "words = text.split()\n",
    "print(words)"
   ]
  },
  {
   "cell_type": "code",
   "execution_count": 20,
   "metadata": {},
   "outputs": [
    {
     "name": "stdout",
     "output_type": "stream",
     "text": [
      "['first', 'time', 'see', 'second', 'renaissance', 'may', 'look', 'boring', 'look', 'least', 'twice', 'definitely', 'watch', 'part', '2', 'change', 'view', 'matrix', 'human', 'people', 'ones', 'started', 'war', 'ai', 'bad', 'thing']\n"
     ]
    }
   ],
   "source": [
    "# Remove stop words\n",
    "words = [w for w in words if w not in stopwords.words(\"english\")]\n",
    "print(words)"
   ]
  },
  {
   "cell_type": "markdown",
   "metadata": {},
   "source": [
    "### Sentence Parsing"
   ]
  },
  {
   "cell_type": "code",
   "execution_count": 21,
   "metadata": {},
   "outputs": [
    {
     "name": "stdout",
     "output_type": "stream",
     "text": [
      "(S\n",
      "  (NP I)\n",
      "  (VP\n",
      "    (VP (V shot) (NP (Det an) (N elephant)))\n",
      "    (PP (P in) (NP (Det my) (N pajamas)))))\n",
      "(S\n",
      "  (NP I)\n",
      "  (VP\n",
      "    (V shot)\n",
      "    (NP (Det an) (N elephant) (PP (P in) (NP (Det my) (N pajamas))))))\n"
     ]
    }
   ],
   "source": [
    "import nltk\n",
    "\n",
    "# Define a custom grammar\n",
    "my_grammar = nltk.CFG.fromstring(\"\"\"\n",
    "S -> NP VP\n",
    "PP -> P NP\n",
    "NP -> Det N | Det N PP | 'I'\n",
    "VP -> V NP | VP PP\n",
    "Det -> 'an' | 'my'\n",
    "N -> 'elephant' | 'pajamas'\n",
    "V -> 'shot'\n",
    "P -> 'in'\n",
    "\"\"\")\n",
    "parser = nltk.ChartParser(my_grammar)\n",
    "\n",
    "# Parse a sentence\n",
    "sentence = word_tokenize(\"I shot an elephant in my pajamas\")\n",
    "for tree in parser.parse(sentence):\n",
    "    print(tree)"
   ]
  },
  {
   "cell_type": "markdown",
   "metadata": {},
   "source": [
    "## Stemming & Lemmatization\n",
    "\n",
    "### Stemming"
   ]
  },
  {
   "cell_type": "code",
   "execution_count": 22,
   "metadata": {},
   "outputs": [
    {
     "name": "stdout",
     "output_type": "stream",
     "text": [
      "['first', 'time', 'see', 'second', 'renaiss', 'may', 'look', 'bore', 'look', 'least', 'twice', 'definit', 'watch', 'part', '2', 'chang', 'view', 'matrix', 'human', 'peopl', 'one', 'start', 'war', 'ai', 'bad', 'thing']\n"
     ]
    }
   ],
   "source": [
    "from nltk.stem.porter import PorterStemmer\n",
    "\n",
    "# Reduce words to their stems\n",
    "stemmed = [PorterStemmer().stem(w) for w in words]\n",
    "print(stemmed)"
   ]
  },
  {
   "cell_type": "markdown",
   "metadata": {},
   "source": [
    "### Lemmatization"
   ]
  },
  {
   "cell_type": "code",
   "execution_count": 23,
   "metadata": {},
   "outputs": [
    {
     "name": "stdout",
     "output_type": "stream",
     "text": [
      "['first', 'time', 'see', 'second', 'renaissance', 'may', 'look', 'boring', 'look', 'least', 'twice', 'definitely', 'watch', 'part', '2', 'change', 'view', 'matrix', 'human', 'people', 'one', 'started', 'war', 'ai', 'bad', 'thing']\n"
     ]
    }
   ],
   "source": [
    "from nltk.stem.wordnet import WordNetLemmatizer\n",
    "\n",
    "# Reduce words to their root form\n",
    "lemmed = [WordNetLemmatizer().lemmatize(w) for w in words]\n",
    "print(lemmed)"
   ]
  },
  {
   "cell_type": "code",
   "execution_count": 24,
   "metadata": {},
   "outputs": [
    {
     "name": "stdout",
     "output_type": "stream",
     "text": [
      "['first', 'time', 'see', 'second', 'renaissance', 'may', 'look', 'bore', 'look', 'least', 'twice', 'definitely', 'watch', 'part', '2', 'change', 'view', 'matrix', 'human', 'people', 'one', 'start', 'war', 'ai', 'bad', 'thing']\n"
     ]
    }
   ],
   "source": [
    "# Lemmatize verbs by specifying pos\n",
    "lemmed = [WordNetLemmatizer().lemmatize(w, pos='v') for w in lemmed]\n",
    "print(lemmed)"
   ]
  }
 ],
 "metadata": {
  "kernelspec": {
   "display_name": "Python 3",
   "language": "python",
   "name": "python3"
  },
  "language_info": {
   "codemirror_mode": {
    "name": "ipython",
    "version": 3
   },
   "file_extension": ".py",
   "mimetype": "text/x-python",
   "name": "python",
   "nbconvert_exporter": "python",
   "pygments_lexer": "ipython3",
   "version": "3.6.3"
  }
 },
 "nbformat": 4,
 "nbformat_minor": 2
}
