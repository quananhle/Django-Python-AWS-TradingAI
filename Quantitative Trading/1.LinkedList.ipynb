{
 "cells": [
  {
   "cell_type": "code",
   "execution_count": 60,
   "metadata": {},
   "outputs": [],
   "source": [
    "class Node:\n",
    "    def __init__(self, data=None):\n",
    "        self.data = data\n",
    "        self.next = None\n",
    "\n",
    "class SLinkedList:\n",
    "    def __init__(self, val=0, next=None):\n",
    "        self.val = val\n",
    "        self.next = next\n",
    "    def listprint(self):\n",
    "        printval = self.head\n",
    "        while printval is not None:\n",
    "            print (printval.data)\n",
    "            printval = printval.next"
   ]
  },
  {
   "cell_type": "code",
   "execution_count": 61,
   "metadata": {},
   "outputs": [],
   "source": [
    "def do_what (head, k):\n",
    "    if not head:\n",
    "        return head\n",
    "    e = head\n",
    "    ne = head\n",
    "    i = 0\n",
    "    while i < k:\n",
    "        e = e.next\n",
    "        if not e:\n",
    "            return head\n",
    "        i += 1\n",
    "    while e.next:\n",
    "        ne = ne.next\n",
    "        e = e.next\n",
    "    d = Node (\"d\")\n",
    "    d.next = ne.next\n",
    "    ne.next = None\n",
    "    e.next = head\n",
    "    return d.next"
   ]
  },
  {
   "cell_type": "code",
   "execution_count": 62,
   "metadata": {},
   "outputs": [],
   "source": [
    "llist = SLinkedList()\n",
    "llist.head = Node(\"1\")\n",
    "llist.head.next = Node(\"2\")\n",
    "llist.head.next.next = Node(\"3\")\n",
    "llist.head.next.next.next = Node(\"4\")\n",
    "llist.head.next.next.next.next = Node(\"5\")\n",
    "llist.head.next.next.next.next.next = Node(\"6\")"
   ]
  },
  {
   "cell_type": "code",
   "execution_count": 63,
   "metadata": {},
   "outputs": [
    {
     "name": "stdout",
     "output_type": "stream",
     "text": [
      "1\n",
      "2\n",
      "3\n",
      "4\n",
      "5\n",
      "6\n"
     ]
    }
   ],
   "source": [
    "llist.listprint()"
   ]
  },
  {
   "cell_type": "code",
   "execution_count": 69,
   "metadata": {},
   "outputs": [
    {
     "data": {
      "text/plain": [
       "<bound method SLinkedList.listprint of <__main__.SLinkedList object at 0x7f7f8c7403a0>>"
      ]
     },
     "execution_count": 69,
     "metadata": {},
     "output_type": "execute_result"
    }
   ],
   "source": [
    "do_what(llist, 3).listprint"
   ]
  },
  {
   "cell_type": "code",
   "execution_count": 70,
   "metadata": {},
   "outputs": [
    {
     "name": "stdout",
     "output_type": "stream",
     "text": [
      "1\n",
      "2\n",
      "3\n",
      "4\n",
      "5\n",
      "6\n"
     ]
    }
   ],
   "source": [
    "llist.listprint()"
   ]
  }
 ],
 "metadata": {
  "kernelspec": {
   "display_name": "Python 3",
   "language": "python",
   "name": "python3"
  },
  "language_info": {
   "codemirror_mode": {
    "name": "ipython",
    "version": 3
   },
   "file_extension": ".py",
   "mimetype": "text/x-python",
   "name": "python",
   "nbconvert_exporter": "python",
   "pygments_lexer": "ipython3",
   "version": "3.8.5"
  }
 },
 "nbformat": 4,
 "nbformat_minor": 4
}
